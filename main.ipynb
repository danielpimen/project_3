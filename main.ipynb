{
 "cells": [
  {
   "cell_type": "code",
   "execution_count": 1,
   "metadata": {},
   "outputs": [],
   "source": [
    "from sklearn import tree\n",
    "import pandas as pd\n",
    "import os \n",
    "import numpy as np\n",
    "from pandas.plotting import scatter_matrix "
   ]
  },
  {
   "cell_type": "code",
   "execution_count": 14,
   "metadata": {},
   "outputs": [],
   "source": [
    "from pandas import read_csv\n",
    "from pandas.plotting import scatter_matrix\n",
    "from matplotlib import pyplot\n",
    "from sklearn.model_selection import train_test_split\n",
    "from sklearn.model_selection import cross_val_score\n",
    "from sklearn.model_selection import StratifiedKFold\n",
    "from sklearn.metrics import classification_report\n",
    "from sklearn.metrics import confusion_matrix\n",
    "from sklearn.metrics import accuracy_score\n",
    "from sklearn.linear_model import LogisticRegression\n",
    "from sklearn.tree import DecisionTreeClassifier\n",
    "from sklearn.neighbors import KNeighborsClassifier\n",
    "from sklearn.discriminant_analysis import LinearDiscriminantAnalysis\n",
    "from sklearn.naive_bayes import GaussianNB\n",
    "from sklearn.svm import SVC\n",
    "import seaborn as sns \n"
   ]
  },
  {
   "cell_type": "code",
   "execution_count": 15,
   "metadata": {},
   "outputs": [],
   "source": [
    "file = 'clt_temps.csv'"
   ]
  },
  {
   "cell_type": "code",
   "execution_count": 16,
   "metadata": {},
   "outputs": [],
   "source": [
    "df = pd.read_csv(file, encoding =\"ISO-8859-1\")"
   ]
  },
  {
   "cell_type": "code",
   "execution_count": 17,
   "metadata": {},
   "outputs": [],
   "source": [
    "score_df = df.loc[:, [\"date_time\", \"avg_temp\", \"precip_water\", \"snow\", \"snow_ice_depth\"]]\n",
    "score_df_2 = df[[]]"
   ]
  },
  {
   "cell_type": "code",
   "execution_count": 18,
   "metadata": {},
   "outputs": [
    {
     "data": {
      "text/html": [
       "<div>\n",
       "<style scoped>\n",
       "    .dataframe tbody tr th:only-of-type {\n",
       "        vertical-align: middle;\n",
       "    }\n",
       "\n",
       "    .dataframe tbody tr th {\n",
       "        vertical-align: top;\n",
       "    }\n",
       "\n",
       "    .dataframe thead th {\n",
       "        text-align: right;\n",
       "    }\n",
       "</style>\n",
       "<table border=\"1\" class=\"dataframe\">\n",
       "  <thead>\n",
       "    <tr style=\"text-align: right;\">\n",
       "      <th></th>\n",
       "      <th>date_time</th>\n",
       "      <th>avg_temp</th>\n",
       "      <th>precip_water</th>\n",
       "      <th>snow</th>\n",
       "      <th>snow_ice_depth</th>\n",
       "    </tr>\n",
       "  </thead>\n",
       "  <tbody>\n",
       "    <tr>\n",
       "      <th>0</th>\n",
       "      <td>1948-09-01</td>\n",
       "      <td>71.5</td>\n",
       "      <td>0.00</td>\n",
       "      <td>0.0</td>\n",
       "      <td>0.0</td>\n",
       "    </tr>\n",
       "    <tr>\n",
       "      <th>1</th>\n",
       "      <td>1948-09-02</td>\n",
       "      <td>69.0</td>\n",
       "      <td>0.00</td>\n",
       "      <td>0.0</td>\n",
       "      <td>0.0</td>\n",
       "    </tr>\n",
       "    <tr>\n",
       "      <th>2</th>\n",
       "      <td>1948-09-03</td>\n",
       "      <td>72.0</td>\n",
       "      <td>0.00</td>\n",
       "      <td>0.0</td>\n",
       "      <td>0.0</td>\n",
       "    </tr>\n",
       "    <tr>\n",
       "      <th>3</th>\n",
       "      <td>1948-09-04</td>\n",
       "      <td>69.0</td>\n",
       "      <td>0.29</td>\n",
       "      <td>0.0</td>\n",
       "      <td>0.0</td>\n",
       "    </tr>\n",
       "    <tr>\n",
       "      <th>4</th>\n",
       "      <td>1948-09-05</td>\n",
       "      <td>72.0</td>\n",
       "      <td>0.06</td>\n",
       "      <td>0.0</td>\n",
       "      <td>0.0</td>\n",
       "    </tr>\n",
       "  </tbody>\n",
       "</table>\n",
       "</div>"
      ],
      "text/plain": [
       "    date_time  avg_temp  precip_water  snow  snow_ice_depth\n",
       "0  1948-09-01      71.5          0.00   0.0             0.0\n",
       "1  1948-09-02      69.0          0.00   0.0             0.0\n",
       "2  1948-09-03      72.0          0.00   0.0             0.0\n",
       "3  1948-09-04      69.0          0.29   0.0             0.0\n",
       "4  1948-09-05      72.0          0.06   0.0             0.0"
      ]
     },
     "execution_count": 18,
     "metadata": {},
     "output_type": "execute_result"
    }
   ],
   "source": [
    "score_df.head()"
   ]
  },
  {
   "cell_type": "code",
   "execution_count": 19,
   "metadata": {},
   "outputs": [],
   "source": [
    "score_df[\"precip\"] = score_df[\"snow\"] + score_df[\"snow_ice_depth\"] + score_df[\"precip_water\"]\n"
   ]
  },
  {
   "cell_type": "code",
   "execution_count": 20,
   "metadata": {},
   "outputs": [
    {
     "data": {
      "text/html": [
       "<div>\n",
       "<style scoped>\n",
       "    .dataframe tbody tr th:only-of-type {\n",
       "        vertical-align: middle;\n",
       "    }\n",
       "\n",
       "    .dataframe tbody tr th {\n",
       "        vertical-align: top;\n",
       "    }\n",
       "\n",
       "    .dataframe thead th {\n",
       "        text-align: right;\n",
       "    }\n",
       "</style>\n",
       "<table border=\"1\" class=\"dataframe\">\n",
       "  <thead>\n",
       "    <tr style=\"text-align: right;\">\n",
       "      <th></th>\n",
       "      <th>date_time</th>\n",
       "      <th>avg_temp</th>\n",
       "      <th>precip_water</th>\n",
       "      <th>snow</th>\n",
       "      <th>snow_ice_depth</th>\n",
       "      <th>precip</th>\n",
       "    </tr>\n",
       "  </thead>\n",
       "  <tbody>\n",
       "    <tr>\n",
       "      <th>0</th>\n",
       "      <td>1948-09-01</td>\n",
       "      <td>71.5</td>\n",
       "      <td>0.00</td>\n",
       "      <td>0.0</td>\n",
       "      <td>0.0</td>\n",
       "      <td>0.00</td>\n",
       "    </tr>\n",
       "    <tr>\n",
       "      <th>1</th>\n",
       "      <td>1948-09-02</td>\n",
       "      <td>69.0</td>\n",
       "      <td>0.00</td>\n",
       "      <td>0.0</td>\n",
       "      <td>0.0</td>\n",
       "      <td>0.00</td>\n",
       "    </tr>\n",
       "    <tr>\n",
       "      <th>2</th>\n",
       "      <td>1948-09-03</td>\n",
       "      <td>72.0</td>\n",
       "      <td>0.00</td>\n",
       "      <td>0.0</td>\n",
       "      <td>0.0</td>\n",
       "      <td>0.00</td>\n",
       "    </tr>\n",
       "    <tr>\n",
       "      <th>3</th>\n",
       "      <td>1948-09-04</td>\n",
       "      <td>69.0</td>\n",
       "      <td>0.29</td>\n",
       "      <td>0.0</td>\n",
       "      <td>0.0</td>\n",
       "      <td>0.29</td>\n",
       "    </tr>\n",
       "    <tr>\n",
       "      <th>4</th>\n",
       "      <td>1948-09-05</td>\n",
       "      <td>72.0</td>\n",
       "      <td>0.06</td>\n",
       "      <td>0.0</td>\n",
       "      <td>0.0</td>\n",
       "      <td>0.06</td>\n",
       "    </tr>\n",
       "    <tr>\n",
       "      <th>5</th>\n",
       "      <td>1948-09-06</td>\n",
       "      <td>72.0</td>\n",
       "      <td>0.40</td>\n",
       "      <td>0.0</td>\n",
       "      <td>0.0</td>\n",
       "      <td>0.40</td>\n",
       "    </tr>\n",
       "    <tr>\n",
       "      <th>6</th>\n",
       "      <td>1948-09-07</td>\n",
       "      <td>75.0</td>\n",
       "      <td>0.65</td>\n",
       "      <td>0.0</td>\n",
       "      <td>0.0</td>\n",
       "      <td>0.65</td>\n",
       "    </tr>\n",
       "    <tr>\n",
       "      <th>7</th>\n",
       "      <td>1948-09-08</td>\n",
       "      <td>76.0</td>\n",
       "      <td>0.00</td>\n",
       "      <td>0.0</td>\n",
       "      <td>0.0</td>\n",
       "      <td>0.00</td>\n",
       "    </tr>\n",
       "    <tr>\n",
       "      <th>8</th>\n",
       "      <td>1948-09-09</td>\n",
       "      <td>77.5</td>\n",
       "      <td>0.00</td>\n",
       "      <td>0.0</td>\n",
       "      <td>0.0</td>\n",
       "      <td>0.00</td>\n",
       "    </tr>\n",
       "    <tr>\n",
       "      <th>9</th>\n",
       "      <td>1948-09-10</td>\n",
       "      <td>75.0</td>\n",
       "      <td>0.00</td>\n",
       "      <td>0.0</td>\n",
       "      <td>0.0</td>\n",
       "      <td>0.00</td>\n",
       "    </tr>\n",
       "  </tbody>\n",
       "</table>\n",
       "</div>"
      ],
      "text/plain": [
       "    date_time  avg_temp  precip_water  snow  snow_ice_depth  precip\n",
       "0  1948-09-01      71.5          0.00   0.0             0.0    0.00\n",
       "1  1948-09-02      69.0          0.00   0.0             0.0    0.00\n",
       "2  1948-09-03      72.0          0.00   0.0             0.0    0.00\n",
       "3  1948-09-04      69.0          0.29   0.0             0.0    0.29\n",
       "4  1948-09-05      72.0          0.06   0.0             0.0    0.06\n",
       "5  1948-09-06      72.0          0.40   0.0             0.0    0.40\n",
       "6  1948-09-07      75.0          0.65   0.0             0.0    0.65\n",
       "7  1948-09-08      76.0          0.00   0.0             0.0    0.00\n",
       "8  1948-09-09      77.5          0.00   0.0             0.0    0.00\n",
       "9  1948-09-10      75.0          0.00   0.0             0.0    0.00"
      ]
     },
     "execution_count": 20,
     "metadata": {},
     "output_type": "execute_result"
    }
   ],
   "source": [
    "score_df.head(10)"
   ]
  },
  {
   "cell_type": "code",
   "execution_count": 21,
   "metadata": {},
   "outputs": [
    {
     "data": {
      "text/html": [
       "<div>\n",
       "<style scoped>\n",
       "    .dataframe tbody tr th:only-of-type {\n",
       "        vertical-align: middle;\n",
       "    }\n",
       "\n",
       "    .dataframe tbody tr th {\n",
       "        vertical-align: top;\n",
       "    }\n",
       "\n",
       "    .dataframe thead th {\n",
       "        text-align: right;\n",
       "    }\n",
       "</style>\n",
       "<table border=\"1\" class=\"dataframe\">\n",
       "  <thead>\n",
       "    <tr style=\"text-align: right;\">\n",
       "      <th></th>\n",
       "      <th>date_time</th>\n",
       "      <th>avg_temp</th>\n",
       "      <th>precip_water</th>\n",
       "      <th>snow</th>\n",
       "      <th>snow_ice_depth</th>\n",
       "    </tr>\n",
       "  </thead>\n",
       "  <tbody>\n",
       "    <tr>\n",
       "      <th>0</th>\n",
       "      <td>1948-09-01</td>\n",
       "      <td>71.5</td>\n",
       "      <td>0.00</td>\n",
       "      <td>0.0</td>\n",
       "      <td>0.0</td>\n",
       "    </tr>\n",
       "    <tr>\n",
       "      <th>1</th>\n",
       "      <td>1948-09-02</td>\n",
       "      <td>69.0</td>\n",
       "      <td>0.00</td>\n",
       "      <td>0.0</td>\n",
       "      <td>0.0</td>\n",
       "    </tr>\n",
       "    <tr>\n",
       "      <th>2</th>\n",
       "      <td>1948-09-03</td>\n",
       "      <td>72.0</td>\n",
       "      <td>0.00</td>\n",
       "      <td>0.0</td>\n",
       "      <td>0.0</td>\n",
       "    </tr>\n",
       "    <tr>\n",
       "      <th>3</th>\n",
       "      <td>1948-09-04</td>\n",
       "      <td>69.0</td>\n",
       "      <td>0.29</td>\n",
       "      <td>0.0</td>\n",
       "      <td>0.0</td>\n",
       "    </tr>\n",
       "    <tr>\n",
       "      <th>4</th>\n",
       "      <td>1948-09-05</td>\n",
       "      <td>72.0</td>\n",
       "      <td>0.06</td>\n",
       "      <td>0.0</td>\n",
       "      <td>0.0</td>\n",
       "    </tr>\n",
       "  </tbody>\n",
       "</table>\n",
       "</div>"
      ],
      "text/plain": [
       "    date_time  avg_temp  precip_water  snow  snow_ice_depth\n",
       "0  1948-09-01      71.5          0.00   0.0             0.0\n",
       "1  1948-09-02      69.0          0.00   0.0             0.0\n",
       "2  1948-09-03      72.0          0.00   0.0             0.0\n",
       "3  1948-09-04      69.0          0.29   0.0             0.0\n",
       "4  1948-09-05      72.0          0.06   0.0             0.0"
      ]
     },
     "execution_count": 21,
     "metadata": {},
     "output_type": "execute_result"
    }
   ],
   "source": [
    "score_df_2.head()"
   ]
  },
  {
   "cell_type": "code",
   "execution_count": null,
   "metadata": {},
   "outputs": [],
   "source": []
  },
  {
   "cell_type": "code",
   "execution_count": 8,
   "metadata": {},
   "outputs": [],
   "source": [
    "conditions = [\n",
    "    (score_df['precip'] == 0.00) & (score_df['avg_temp'] >= 70) & (score_df['avg_temp'] <= 80)]\n",
    "choices = [2]\n",
    "score_df['score'] = np.select(conditions, choices, default=1)"
   ]
  },
  {
   "cell_type": "code",
   "execution_count": 9,
   "metadata": {},
   "outputs": [
    {
     "data": {
      "text/html": [
       "<div>\n",
       "<style scoped>\n",
       "    .dataframe tbody tr th:only-of-type {\n",
       "        vertical-align: middle;\n",
       "    }\n",
       "\n",
       "    .dataframe tbody tr th {\n",
       "        vertical-align: top;\n",
       "    }\n",
       "\n",
       "    .dataframe thead th {\n",
       "        text-align: right;\n",
       "    }\n",
       "</style>\n",
       "<table border=\"1\" class=\"dataframe\">\n",
       "  <thead>\n",
       "    <tr style=\"text-align: right;\">\n",
       "      <th></th>\n",
       "      <th>date_time</th>\n",
       "      <th>avg_temp</th>\n",
       "      <th>precip_water</th>\n",
       "      <th>snow</th>\n",
       "      <th>snow_ice_depth</th>\n",
       "      <th>precip</th>\n",
       "      <th>score</th>\n",
       "    </tr>\n",
       "  </thead>\n",
       "  <tbody>\n",
       "    <tr>\n",
       "      <th>0</th>\n",
       "      <td>1948-09-01</td>\n",
       "      <td>71.5</td>\n",
       "      <td>0.00</td>\n",
       "      <td>0.0</td>\n",
       "      <td>0.0</td>\n",
       "      <td>0.00</td>\n",
       "      <td>2</td>\n",
       "    </tr>\n",
       "    <tr>\n",
       "      <th>1</th>\n",
       "      <td>1948-09-02</td>\n",
       "      <td>69.0</td>\n",
       "      <td>0.00</td>\n",
       "      <td>0.0</td>\n",
       "      <td>0.0</td>\n",
       "      <td>0.00</td>\n",
       "      <td>1</td>\n",
       "    </tr>\n",
       "    <tr>\n",
       "      <th>2</th>\n",
       "      <td>1948-09-03</td>\n",
       "      <td>72.0</td>\n",
       "      <td>0.00</td>\n",
       "      <td>0.0</td>\n",
       "      <td>0.0</td>\n",
       "      <td>0.00</td>\n",
       "      <td>2</td>\n",
       "    </tr>\n",
       "    <tr>\n",
       "      <th>3</th>\n",
       "      <td>1948-09-04</td>\n",
       "      <td>69.0</td>\n",
       "      <td>0.29</td>\n",
       "      <td>0.0</td>\n",
       "      <td>0.0</td>\n",
       "      <td>0.29</td>\n",
       "      <td>1</td>\n",
       "    </tr>\n",
       "    <tr>\n",
       "      <th>4</th>\n",
       "      <td>1948-09-05</td>\n",
       "      <td>72.0</td>\n",
       "      <td>0.06</td>\n",
       "      <td>0.0</td>\n",
       "      <td>0.0</td>\n",
       "      <td>0.06</td>\n",
       "      <td>1</td>\n",
       "    </tr>\n",
       "  </tbody>\n",
       "</table>\n",
       "</div>"
      ],
      "text/plain": [
       "    date_time  avg_temp  precip_water  snow  snow_ice_depth  precip  score\n",
       "0  1948-09-01      71.5          0.00   0.0             0.0    0.00      2\n",
       "1  1948-09-02      69.0          0.00   0.0             0.0    0.00      1\n",
       "2  1948-09-03      72.0          0.00   0.0             0.0    0.00      2\n",
       "3  1948-09-04      69.0          0.29   0.0             0.0    0.29      1\n",
       "4  1948-09-05      72.0          0.06   0.0             0.0    0.06      1"
      ]
     },
     "execution_count": 9,
     "metadata": {},
     "output_type": "execute_result"
    }
   ],
   "source": [
    "score_df.head()"
   ]
  },
  {
   "cell_type": "code",
   "execution_count": 10,
   "metadata": {},
   "outputs": [],
   "source": [
    "score_df.to_csv('dates_scored.csv')"
   ]
  },
  {
   "cell_type": "code",
   "execution_count": 11,
   "metadata": {},
   "outputs": [
    {
     "data": {
      "text/html": [
       "<style  type=\"text/css\" >\n",
       "    #T_53ba89a6_450c_11ea_b21a_00e18c2386d2row0_col0 {\n",
       "            background-color:  #023858;\n",
       "            color:  #f1f1f1;\n",
       "        }    #T_53ba89a6_450c_11ea_b21a_00e18c2386d2row0_col1 {\n",
       "            background-color:  #e7e3f0;\n",
       "            color:  #000000;\n",
       "        }    #T_53ba89a6_450c_11ea_b21a_00e18c2386d2row0_col2 {\n",
       "            background-color:  #fff7fb;\n",
       "            color:  #000000;\n",
       "        }    #T_53ba89a6_450c_11ea_b21a_00e18c2386d2row0_col3 {\n",
       "            background-color:  #fff7fb;\n",
       "            color:  #000000;\n",
       "        }    #T_53ba89a6_450c_11ea_b21a_00e18c2386d2row0_col4 {\n",
       "            background-color:  #fff7fb;\n",
       "            color:  #000000;\n",
       "        }    #T_53ba89a6_450c_11ea_b21a_00e18c2386d2row0_col5 {\n",
       "            background-color:  #6da6cd;\n",
       "            color:  #000000;\n",
       "        }    #T_53ba89a6_450c_11ea_b21a_00e18c2386d2row1_col0 {\n",
       "            background-color:  #eae6f1;\n",
       "            color:  #000000;\n",
       "        }    #T_53ba89a6_450c_11ea_b21a_00e18c2386d2row1_col1 {\n",
       "            background-color:  #023858;\n",
       "            color:  #f1f1f1;\n",
       "        }    #T_53ba89a6_450c_11ea_b21a_00e18c2386d2row1_col2 {\n",
       "            background-color:  #e2dfee;\n",
       "            color:  #000000;\n",
       "        }    #T_53ba89a6_450c_11ea_b21a_00e18c2386d2row1_col3 {\n",
       "            background-color:  #ebe6f2;\n",
       "            color:  #000000;\n",
       "        }    #T_53ba89a6_450c_11ea_b21a_00e18c2386d2row1_col4 {\n",
       "            background-color:  #2f8bbe;\n",
       "            color:  #000000;\n",
       "        }    #T_53ba89a6_450c_11ea_b21a_00e18c2386d2row1_col5 {\n",
       "            background-color:  #fff7fb;\n",
       "            color:  #000000;\n",
       "        }    #T_53ba89a6_450c_11ea_b21a_00e18c2386d2row2_col0 {\n",
       "            background-color:  #fbf3f9;\n",
       "            color:  #000000;\n",
       "        }    #T_53ba89a6_450c_11ea_b21a_00e18c2386d2row2_col1 {\n",
       "            background-color:  #d9d8ea;\n",
       "            color:  #000000;\n",
       "        }    #T_53ba89a6_450c_11ea_b21a_00e18c2386d2row2_col2 {\n",
       "            background-color:  #023858;\n",
       "            color:  #f1f1f1;\n",
       "        }    #T_53ba89a6_450c_11ea_b21a_00e18c2386d2row2_col3 {\n",
       "            background-color:  #a2bcda;\n",
       "            color:  #000000;\n",
       "        }    #T_53ba89a6_450c_11ea_b21a_00e18c2386d2row2_col4 {\n",
       "            background-color:  #2081b9;\n",
       "            color:  #000000;\n",
       "        }    #T_53ba89a6_450c_11ea_b21a_00e18c2386d2row2_col5 {\n",
       "            background-color:  #ede8f3;\n",
       "            color:  #000000;\n",
       "        }    #T_53ba89a6_450c_11ea_b21a_00e18c2386d2row3_col0 {\n",
       "            background-color:  #fff7fb;\n",
       "            color:  #000000;\n",
       "        }    #T_53ba89a6_450c_11ea_b21a_00e18c2386d2row3_col1 {\n",
       "            background-color:  #e7e3f0;\n",
       "            color:  #000000;\n",
       "        }    #T_53ba89a6_450c_11ea_b21a_00e18c2386d2row3_col2 {\n",
       "            background-color:  #a8bedc;\n",
       "            color:  #000000;\n",
       "        }    #T_53ba89a6_450c_11ea_b21a_00e18c2386d2row3_col3 {\n",
       "            background-color:  #023858;\n",
       "            color:  #f1f1f1;\n",
       "        }    #T_53ba89a6_450c_11ea_b21a_00e18c2386d2row3_col4 {\n",
       "            background-color:  #0d75b3;\n",
       "            color:  #f1f1f1;\n",
       "        }    #T_53ba89a6_450c_11ea_b21a_00e18c2386d2row3_col5 {\n",
       "            background-color:  #eee9f3;\n",
       "            color:  #000000;\n",
       "        }    #T_53ba89a6_450c_11ea_b21a_00e18c2386d2row4_col0 {\n",
       "            background-color:  #fcf4fa;\n",
       "            color:  #000000;\n",
       "        }    #T_53ba89a6_450c_11ea_b21a_00e18c2386d2row4_col1 {\n",
       "            background-color:  #2987bc;\n",
       "            color:  #000000;\n",
       "        }    #T_53ba89a6_450c_11ea_b21a_00e18c2386d2row4_col2 {\n",
       "            background-color:  #2182b9;\n",
       "            color:  #000000;\n",
       "        }    #T_53ba89a6_450c_11ea_b21a_00e18c2386d2row4_col3 {\n",
       "            background-color:  #0c74b2;\n",
       "            color:  #f1f1f1;\n",
       "        }    #T_53ba89a6_450c_11ea_b21a_00e18c2386d2row4_col4 {\n",
       "            background-color:  #023858;\n",
       "            color:  #f1f1f1;\n",
       "        }    #T_53ba89a6_450c_11ea_b21a_00e18c2386d2row4_col5 {\n",
       "            background-color:  #faf2f8;\n",
       "            color:  #000000;\n",
       "        }    #T_53ba89a6_450c_11ea_b21a_00e18c2386d2row5_col0 {\n",
       "            background-color:  #73a9cf;\n",
       "            color:  #000000;\n",
       "        }    #T_53ba89a6_450c_11ea_b21a_00e18c2386d2row5_col1 {\n",
       "            background-color:  #fff7fb;\n",
       "            color:  #000000;\n",
       "        }    #T_53ba89a6_450c_11ea_b21a_00e18c2386d2row5_col2 {\n",
       "            background-color:  #f4eef6;\n",
       "            color:  #000000;\n",
       "        }    #T_53ba89a6_450c_11ea_b21a_00e18c2386d2row5_col3 {\n",
       "            background-color:  #f1ebf4;\n",
       "            color:  #000000;\n",
       "        }    #T_53ba89a6_450c_11ea_b21a_00e18c2386d2row5_col4 {\n",
       "            background-color:  #fff7fb;\n",
       "            color:  #000000;\n",
       "        }    #T_53ba89a6_450c_11ea_b21a_00e18c2386d2row5_col5 {\n",
       "            background-color:  #023858;\n",
       "            color:  #f1f1f1;\n",
       "        }</style><table id=\"T_53ba89a6_450c_11ea_b21a_00e18c2386d2\" ><thead>    <tr>        <th class=\"blank level0\" ></th>        <th class=\"col_heading level0 col0\" >avg_temp</th>        <th class=\"col_heading level0 col1\" >precip_water</th>        <th class=\"col_heading level0 col2\" >snow</th>        <th class=\"col_heading level0 col3\" >snow_ice_depth</th>        <th class=\"col_heading level0 col4\" >precip</th>        <th class=\"col_heading level0 col5\" >score</th>    </tr></thead><tbody>\n",
       "                <tr>\n",
       "                        <th id=\"T_53ba89a6_450c_11ea_b21a_00e18c2386d2level0_row0\" class=\"row_heading level0 row0\" >avg_temp</th>\n",
       "                        <td id=\"T_53ba89a6_450c_11ea_b21a_00e18c2386d2row0_col0\" class=\"data row0 col0\" >1</td>\n",
       "                        <td id=\"T_53ba89a6_450c_11ea_b21a_00e18c2386d2row0_col1\" class=\"data row0 col1\" >0.0132684</td>\n",
       "                        <td id=\"T_53ba89a6_450c_11ea_b21a_00e18c2386d2row0_col2\" class=\"data row0 col2\" >-0.106843</td>\n",
       "                        <td id=\"T_53ba89a6_450c_11ea_b21a_00e18c2386d2row0_col3\" class=\"data row0 col3\" >-0.139758</td>\n",
       "                        <td id=\"T_53ba89a6_450c_11ea_b21a_00e18c2386d2row0_col4\" class=\"data row0 col4\" >-0.116617</td>\n",
       "                        <td id=\"T_53ba89a6_450c_11ea_b21a_00e18c2386d2row0_col5\" class=\"data row0 col5\" >0.433078</td>\n",
       "            </tr>\n",
       "            <tr>\n",
       "                        <th id=\"T_53ba89a6_450c_11ea_b21a_00e18c2386d2level0_row1\" class=\"row_heading level0 row1\" >precip_water</th>\n",
       "                        <td id=\"T_53ba89a6_450c_11ea_b21a_00e18c2386d2row1_col0\" class=\"data row1 col0\" >0.0132684</td>\n",
       "                        <td id=\"T_53ba89a6_450c_11ea_b21a_00e18c2386d2row1_col1\" class=\"data row1 col1\" >1</td>\n",
       "                        <td id=\"T_53ba89a6_450c_11ea_b21a_00e18c2386d2row1_col2\" class=\"data row1 col2\" >0.082157</td>\n",
       "                        <td id=\"T_53ba89a6_450c_11ea_b21a_00e18c2386d2row1_col3\" class=\"data row1 col3\" >0.0111694</td>\n",
       "                        <td id=\"T_53ba89a6_450c_11ea_b21a_00e18c2386d2row1_col4\" class=\"data row1 col4\" >0.600294</td>\n",
       "                        <td id=\"T_53ba89a6_450c_11ea_b21a_00e18c2386d2row1_col5\" class=\"data row1 col5\" >-0.162994</td>\n",
       "            </tr>\n",
       "            <tr>\n",
       "                        <th id=\"T_53ba89a6_450c_11ea_b21a_00e18c2386d2level0_row2\" class=\"row_heading level0 row2\" >snow</th>\n",
       "                        <td id=\"T_53ba89a6_450c_11ea_b21a_00e18c2386d2row2_col0\" class=\"data row2 col0\" >-0.106843</td>\n",
       "                        <td id=\"T_53ba89a6_450c_11ea_b21a_00e18c2386d2row2_col1\" class=\"data row2 col1\" >0.082157</td>\n",
       "                        <td id=\"T_53ba89a6_450c_11ea_b21a_00e18c2386d2row2_col2\" class=\"data row2 col2\" >1</td>\n",
       "                        <td id=\"T_53ba89a6_450c_11ea_b21a_00e18c2386d2row2_col3\" class=\"data row2 col3\" >0.300252</td>\n",
       "                        <td id=\"T_53ba89a6_450c_11ea_b21a_00e18c2386d2row2_col4\" class=\"data row2 col4\" >0.643726</td>\n",
       "                        <td id=\"T_53ba89a6_450c_11ea_b21a_00e18c2386d2row2_col5\" class=\"data row2 col5\" >-0.0250891</td>\n",
       "            </tr>\n",
       "            <tr>\n",
       "                        <th id=\"T_53ba89a6_450c_11ea_b21a_00e18c2386d2level0_row3\" class=\"row_heading level0 row3\" >snow_ice_depth</th>\n",
       "                        <td id=\"T_53ba89a6_450c_11ea_b21a_00e18c2386d2row3_col0\" class=\"data row3 col0\" >-0.139758</td>\n",
       "                        <td id=\"T_53ba89a6_450c_11ea_b21a_00e18c2386d2row3_col1\" class=\"data row3 col1\" >0.0111694</td>\n",
       "                        <td id=\"T_53ba89a6_450c_11ea_b21a_00e18c2386d2row3_col2\" class=\"data row3 col2\" >0.300252</td>\n",
       "                        <td id=\"T_53ba89a6_450c_11ea_b21a_00e18c2386d2row3_col3\" class=\"data row3 col3\" >1</td>\n",
       "                        <td id=\"T_53ba89a6_450c_11ea_b21a_00e18c2386d2row3_col4\" class=\"data row3 col4\" >0.694051</td>\n",
       "                        <td id=\"T_53ba89a6_450c_11ea_b21a_00e18c2386d2row3_col5\" class=\"data row3 col5\" >-0.0327979</td>\n",
       "            </tr>\n",
       "            <tr>\n",
       "                        <th id=\"T_53ba89a6_450c_11ea_b21a_00e18c2386d2level0_row4\" class=\"row_heading level0 row4\" >precip</th>\n",
       "                        <td id=\"T_53ba89a6_450c_11ea_b21a_00e18c2386d2row4_col0\" class=\"data row4 col0\" >-0.116617</td>\n",
       "                        <td id=\"T_53ba89a6_450c_11ea_b21a_00e18c2386d2row4_col1\" class=\"data row4 col1\" >0.600294</td>\n",
       "                        <td id=\"T_53ba89a6_450c_11ea_b21a_00e18c2386d2row4_col2\" class=\"data row4 col2\" >0.643726</td>\n",
       "                        <td id=\"T_53ba89a6_450c_11ea_b21a_00e18c2386d2row4_col3\" class=\"data row4 col3\" >0.694051</td>\n",
       "                        <td id=\"T_53ba89a6_450c_11ea_b21a_00e18c2386d2row4_col4\" class=\"data row4 col4\" >1</td>\n",
       "                        <td id=\"T_53ba89a6_450c_11ea_b21a_00e18c2386d2row4_col5\" class=\"data row4 col5\" >-0.120182</td>\n",
       "            </tr>\n",
       "            <tr>\n",
       "                        <th id=\"T_53ba89a6_450c_11ea_b21a_00e18c2386d2level0_row5\" class=\"row_heading level0 row5\" >score</th>\n",
       "                        <td id=\"T_53ba89a6_450c_11ea_b21a_00e18c2386d2row5_col0\" class=\"data row5 col0\" >0.433078</td>\n",
       "                        <td id=\"T_53ba89a6_450c_11ea_b21a_00e18c2386d2row5_col1\" class=\"data row5 col1\" >-0.162994</td>\n",
       "                        <td id=\"T_53ba89a6_450c_11ea_b21a_00e18c2386d2row5_col2\" class=\"data row5 col2\" >-0.0250891</td>\n",
       "                        <td id=\"T_53ba89a6_450c_11ea_b21a_00e18c2386d2row5_col3\" class=\"data row5 col3\" >-0.0327979</td>\n",
       "                        <td id=\"T_53ba89a6_450c_11ea_b21a_00e18c2386d2row5_col4\" class=\"data row5 col4\" >-0.120182</td>\n",
       "                        <td id=\"T_53ba89a6_450c_11ea_b21a_00e18c2386d2row5_col5\" class=\"data row5 col5\" >1</td>\n",
       "            </tr>\n",
       "    </tbody></table>"
      ],
      "text/plain": [
       "<pandas.io.formats.style.Styler at 0x17b6c7ed2b0>"
      ]
     },
     "execution_count": 11,
     "metadata": {},
     "output_type": "execute_result"
    }
   ],
   "source": [
    "score_df.corr().style.background_gradient()"
   ]
  },
  {
   "cell_type": "code",
   "execution_count": 12,
   "metadata": {},
   "outputs": [
    {
     "data": {
      "text/html": [
       "<div>\n",
       "<style scoped>\n",
       "    .dataframe tbody tr th:only-of-type {\n",
       "        vertical-align: middle;\n",
       "    }\n",
       "\n",
       "    .dataframe tbody tr th {\n",
       "        vertical-align: top;\n",
       "    }\n",
       "\n",
       "    .dataframe thead th {\n",
       "        text-align: right;\n",
       "    }\n",
       "</style>\n",
       "<table border=\"1\" class=\"dataframe\">\n",
       "  <thead>\n",
       "    <tr style=\"text-align: right;\">\n",
       "      <th></th>\n",
       "      <th>avg_temp</th>\n",
       "      <th>precip</th>\n",
       "    </tr>\n",
       "  </thead>\n",
       "  <tbody>\n",
       "    <tr>\n",
       "      <th>0</th>\n",
       "      <td>71.5</td>\n",
       "      <td>0.00</td>\n",
       "    </tr>\n",
       "    <tr>\n",
       "      <th>1</th>\n",
       "      <td>69.0</td>\n",
       "      <td>0.00</td>\n",
       "    </tr>\n",
       "    <tr>\n",
       "      <th>2</th>\n",
       "      <td>72.0</td>\n",
       "      <td>0.00</td>\n",
       "    </tr>\n",
       "    <tr>\n",
       "      <th>3</th>\n",
       "      <td>69.0</td>\n",
       "      <td>0.29</td>\n",
       "    </tr>\n",
       "    <tr>\n",
       "      <th>4</th>\n",
       "      <td>72.0</td>\n",
       "      <td>0.06</td>\n",
       "    </tr>\n",
       "  </tbody>\n",
       "</table>\n",
       "</div>"
      ],
      "text/plain": [
       "   avg_temp  precip\n",
       "0      71.5    0.00\n",
       "1      69.0    0.00\n",
       "2      72.0    0.00\n",
       "3      69.0    0.29\n",
       "4      72.0    0.06"
      ]
     },
     "execution_count": 12,
     "metadata": {},
     "output_type": "execute_result"
    }
   ],
   "source": [
    "x = score_df[[\"avg_temp\",\"precip\"]]\n",
    "x.head()"
   ]
  },
  {
   "cell_type": "code",
   "execution_count": 13,
   "metadata": {},
   "outputs": [
    {
     "data": {
      "text/plain": [
       "0    2\n",
       "1    1\n",
       "2    2\n",
       "3    1\n",
       "4    1\n",
       "Name: score, dtype: int32"
      ]
     },
     "execution_count": 13,
     "metadata": {},
     "output_type": "execute_result"
    }
   ],
   "source": [
    "y = score_df[\"score\"]\n",
    "y.head()"
   ]
  },
  {
   "cell_type": "code",
   "execution_count": 14,
   "metadata": {},
   "outputs": [],
   "source": [
    "y= score_df.score.values.reshape(-1, 1)"
   ]
  },
  {
   "cell_type": "code",
   "execution_count": 18,
   "metadata": {},
   "outputs": [],
   "source": [
    "from sklearn.model_selection import train_test_split\n",
    "x_train, x_test, y_train, y_test = train_test_split(x, y, test_size=0.25)"
   ]
  },
  {
   "cell_type": "code",
   "execution_count": 15,
   "metadata": {},
   "outputs": [
    {
     "name": "stderr",
     "output_type": "stream",
     "text": [
      "C:\\Users\\danie\\Anaconda3\\lib\\site-packages\\sklearn\\utils\\validation.py:724: DataConversionWarning: A column-vector y was passed when a 1d array was expected. Please change the shape of y to (n_samples, ), for example using ravel().\n",
      "  y = column_or_1d(y, warn=True)\n"
     ]
    },
    {
     "data": {
      "text/plain": [
       "SVC(C=1.0, cache_size=200, class_weight=None, coef0=0.0,\n",
       "    decision_function_shape='ovr', degree=3, gamma='auto_deprecated',\n",
       "    kernel='linear', max_iter=-1, probability=False, random_state=None,\n",
       "    shrinking=True, tol=0.001, verbose=False)"
      ]
     },
     "execution_count": 15,
     "metadata": {},
     "output_type": "execute_result"
    }
   ],
   "source": [
    "from sklearn.svm import SVC \n",
    "model = SVC(kernel='linear')\n",
    "model.fit(x, y)"
   ]
  },
  {
   "cell_type": "code",
   "execution_count": 16,
   "metadata": {},
   "outputs": [
    {
     "name": "stderr",
     "output_type": "stream",
     "text": [
      "C:\\Users\\danie\\Anaconda3\\lib\\site-packages\\sklearn\\utils\\validation.py:724: DataConversionWarning: A column-vector y was passed when a 1d array was expected. Please change the shape of y to (n_samples, ), for example using ravel().\n",
      "  y = column_or_1d(y, warn=True)\n"
     ]
    },
    {
     "data": {
      "text/plain": [
       "SVC(C=1.0, cache_size=200, class_weight=None, coef0=0.0,\n",
       "    decision_function_shape='ovr', degree=3, gamma='auto_deprecated',\n",
       "    kernel='linear', max_iter=-1, probability=False, random_state=None,\n",
       "    shrinking=True, tol=0.001, verbose=False)"
      ]
     },
     "execution_count": 16,
     "metadata": {},
     "output_type": "execute_result"
    }
   ],
   "source": [
    "model = SVC(kernel='linear')\n",
    "model.fit(x, y)"
   ]
  },
  {
   "cell_type": "code",
   "execution_count": 19,
   "metadata": {},
   "outputs": [
    {
     "name": "stderr",
     "output_type": "stream",
     "text": [
      "C:\\Users\\danie\\Anaconda3\\lib\\site-packages\\sklearn\\utils\\validation.py:724: DataConversionWarning: A column-vector y was passed when a 1d array was expected. Please change the shape of y to (n_samples, ), for example using ravel().\n",
      "  y = column_or_1d(y, warn=True)\n"
     ]
    }
   ],
   "source": [
    "model = SVC(kernel='linear')\n",
    "model.fit(x_train, y_train)\n",
    "predictions = model.predict(x_test)\n"
   ]
  },
  {
   "cell_type": "code",
   "execution_count": 20,
   "metadata": {},
   "outputs": [
    {
     "data": {
      "text/plain": [
       "array([1, 2])"
      ]
     },
     "execution_count": 20,
     "metadata": {},
     "output_type": "execute_result"
    }
   ],
   "source": [
    "np.unique(predictions)"
   ]
  },
  {
   "cell_type": "code",
   "execution_count": 21,
   "metadata": {},
   "outputs": [
    {
     "name": "stdout",
     "output_type": "stream",
     "text": [
      "              precision    recall  f1-score   support\n",
      "\n",
      "    good day       0.92      0.90      0.91      5396\n",
      "     bad day       0.57      0.64      0.60      1104\n",
      "\n",
      "    accuracy                           0.86      6500\n",
      "   macro avg       0.75      0.77      0.76      6500\n",
      "weighted avg       0.86      0.86      0.86      6500\n",
      "\n"
     ]
    }
   ],
   "source": [
    "from sklearn.metrics import classification_report\n",
    "print(classification_report(y_test, predictions,\n",
    "                            target_names=[\"good day\", \"bad day\"]))"
   ]
  },
  {
   "cell_type": "code",
   "execution_count": 22,
   "metadata": {},
   "outputs": [
    {
     "data": {
      "text/plain": [
       "array([[<matplotlib.axes._subplots.AxesSubplot object at 0x0000017B6D04F0F0>,\n",
       "        <matplotlib.axes._subplots.AxesSubplot object at 0x0000017B7CEDC630>,\n",
       "        <matplotlib.axes._subplots.AxesSubplot object at 0x0000017B7CF0CB00>,\n",
       "        <matplotlib.axes._subplots.AxesSubplot object at 0x0000017B7CF470F0>,\n",
       "        <matplotlib.axes._subplots.AxesSubplot object at 0x0000017B7CF736A0>,\n",
       "        <matplotlib.axes._subplots.AxesSubplot object at 0x0000017B7CFA1C50>],\n",
       "       [<matplotlib.axes._subplots.AxesSubplot object at 0x0000017B7CFDC240>,\n",
       "        <matplotlib.axes._subplots.AxesSubplot object at 0x0000017B7D008828>,\n",
       "        <matplotlib.axes._subplots.AxesSubplot object at 0x0000017B7D008860>,\n",
       "        <matplotlib.axes._subplots.AxesSubplot object at 0x0000017B7D073358>,\n",
       "        <matplotlib.axes._subplots.AxesSubplot object at 0x0000017B7D0A1908>,\n",
       "        <matplotlib.axes._subplots.AxesSubplot object at 0x0000017B7D0D4EB8>],\n",
       "       [<matplotlib.axes._subplots.AxesSubplot object at 0x0000017B7D1124A8>,\n",
       "        <matplotlib.axes._subplots.AxesSubplot object at 0x0000017B7D142A58>,\n",
       "        <matplotlib.axes._subplots.AxesSubplot object at 0x0000017B7D17E048>,\n",
       "        <matplotlib.axes._subplots.AxesSubplot object at 0x0000017B7D1B15F8>,\n",
       "        <matplotlib.axes._subplots.AxesSubplot object at 0x0000017B7D1E1BA8>,\n",
       "        <matplotlib.axes._subplots.AxesSubplot object at 0x0000017B7D21E198>],\n",
       "       [<matplotlib.axes._subplots.AxesSubplot object at 0x0000017B7D24F748>,\n",
       "        <matplotlib.axes._subplots.AxesSubplot object at 0x0000017B7D280CF8>,\n",
       "        <matplotlib.axes._subplots.AxesSubplot object at 0x0000017B7D2BE2E8>,\n",
       "        <matplotlib.axes._subplots.AxesSubplot object at 0x0000017B7D2EC898>,\n",
       "        <matplotlib.axes._subplots.AxesSubplot object at 0x0000017B7D31FE48>,\n",
       "        <matplotlib.axes._subplots.AxesSubplot object at 0x0000017B7D35C438>],\n",
       "       [<matplotlib.axes._subplots.AxesSubplot object at 0x0000017B7D38C9E8>,\n",
       "        <matplotlib.axes._subplots.AxesSubplot object at 0x0000017B7D3BFF98>,\n",
       "        <matplotlib.axes._subplots.AxesSubplot object at 0x0000017B7D3FA588>,\n",
       "        <matplotlib.axes._subplots.AxesSubplot object at 0x0000017B7D42CB38>,\n",
       "        <matplotlib.axes._subplots.AxesSubplot object at 0x0000017B7D46A128>,\n",
       "        <matplotlib.axes._subplots.AxesSubplot object at 0x0000017B7D49A6D8>],\n",
       "       [<matplotlib.axes._subplots.AxesSubplot object at 0x0000017B7D4CDC88>,\n",
       "        <matplotlib.axes._subplots.AxesSubplot object at 0x0000017B7D509278>,\n",
       "        <matplotlib.axes._subplots.AxesSubplot object at 0x0000017B7D539828>,\n",
       "        <matplotlib.axes._subplots.AxesSubplot object at 0x0000017B7D56BDD8>,\n",
       "        <matplotlib.axes._subplots.AxesSubplot object at 0x0000017B7D5A73C8>,\n",
       "        <matplotlib.axes._subplots.AxesSubplot object at 0x0000017B7D5D8978>]],\n",
       "      dtype=object)"
      ]
     },
     "execution_count": 22,
     "metadata": {},
     "output_type": "execute_result"
    },
    {
     "data": {
      "image/png": "[encoded data removed]",
      "text/plain": [
       "<Figure size 864x720 with 36 Axes>"
      ]
     },
     "metadata": {
      "needs_background": "light"
     },
     "output_type": "display_data"
    }
   ],
   "source": [
    "scatter_matrix(score_df.loc[:, 'date_time':'score'], figsize = (12,10), diagonal='kde')"
   ]
  },
  {
   "cell_type": "code",
   "execution_count": 41,
   "metadata": {},
   "outputs": [],
   "source": [
    "file2 = 'edited_clt.csv'"
   ]
  },
  {
   "cell_type": "code",
   "execution_count": 42,
   "metadata": {},
   "outputs": [],
   "source": [
    "dataset = pd.read_csv(file2, encoding =\"ISO-8859-1\")"
   ]
  },
  {
   "cell_type": "code",
   "execution_count": 43,
   "metadata": {},
   "outputs": [
    {
     "name": "stdout",
     "output_type": "stream",
     "text": [
      "(25999, 4)\n"
     ]
    }
   ],
   "source": [
    "print(dataset.shape)"
   ]
  },
  {
   "cell_type": "code",
   "execution_count": 44,
   "metadata": {},
   "outputs": [
    {
     "name": "stdout",
     "output_type": "stream",
     "text": [
      "           avg_temp  precip_water          snow  snow_ice_depth\n",
      "count  25999.000000  25999.000000  25999.000000    25999.000000\n",
      "mean      60.774049      0.117219      0.013889        0.023585\n",
      "std       15.461208      0.331500      0.255174        0.331475\n",
      "min        0.000000      0.000000      0.000000        0.000000\n",
      "25%       48.500000      0.000000      0.000000        0.000000\n",
      "50%       62.000000      0.000000      0.000000        0.000000\n",
      "75%       74.500000      0.040000      0.000000        0.000000\n",
      "max       90.500000      6.880000     12.100000       13.000000\n"
     ]
    }
   ],
   "source": [
    "print(dataset.describe())"
   ]
  },
  {
   "cell_type": "code",
   "execution_count": 45,
   "metadata": {},
   "outputs": [
    {
     "data": {
      "image/png": "[encoded data removed]",
      "text/plain": [
       "<Figure size 432x288 with 4 Axes>"
      ]
     },
     "metadata": {
      "needs_background": "light"
     },
     "output_type": "display_data"
    }
   ],
   "source": [
    "from matplotlib import pyplot\n",
    "dataset.plot(kind='box', subplots=True, layout=(2,2), sharex=False, sharey=False)\n",
    "pyplot.show()"
   ]
  },
  {
   "cell_type": "code",
   "execution_count": 46,
   "metadata": {},
   "outputs": [
    {
     "data": {
      "image/png": "[encoded data removed]",
      "text/plain": [
       "<Figure size 432x288 with 4 Axes>"
      ]
     },
     "metadata": {
      "needs_background": "light"
     },
     "output_type": "display_data"
    }
   ],
   "source": [
    "dataset.hist()\n",
    "pyplot.show()"
   ]
  },
  {
   "cell_type": "code",
   "execution_count": 47,
   "metadata": {},
   "outputs": [
    {
     "data": {
      "image/png": "[encoded data removed]",
      "text/plain": [
       "<Figure size 432x288 with 16 Axes>"
      ]
     },
     "metadata": {
      "needs_background": "light"
     },
     "output_type": "display_data"
    }
   ],
   "source": [
    "scatter_matrix(dataset)\n",
    "pyplot.show()"
   ]
  },
  {
   "cell_type": "code",
   "execution_count": 51,
   "metadata": {},
   "outputs": [],
   "source": [
    "# Split-out validation dataset\n",
    "array = dataset.values\n",
    "X = array[:,0:4]\n",
    "y = array[:,3]\n",
    "X_train, X_validation, Y_train, Y_validation = train_test_split(X, y, test_size=0.20, random_state=1)"
   ]
  },
  {
   "cell_type": "code",
   "execution_count": 52,
   "metadata": {},
   "outputs": [
    {
     "data": {
      "text/plain": [
       "LogisticRegression(C=1.0, class_weight=None, dual=False, fit_intercept=True,\n",
       "                   intercept_scaling=1, l1_ratio=None, max_iter=100,\n",
       "                   multi_class='warn', n_jobs=None, penalty='l2',\n",
       "                   random_state=None, solver='warn', tol=0.0001, verbose=0,\n",
       "                   warm_start=False)"
      ]
     },
     "execution_count": 52,
     "metadata": {},
     "output_type": "execute_result"
    }
   ],
   "source": [
    "from sklearn.linear_model import LogisticRegression\n",
    "classifier = LogisticRegression()\n",
    "classifier"
   ]
  },
  {
   "cell_type": "code",
   "execution_count": null,
   "metadata": {},
   "outputs": [],
   "source": [
    "data=data.reshape((999,1))\n"
   ]
  },
  {
   "cell_type": "code",
   "execution_count": 53,
   "metadata": {},
   "outputs": [
    {
     "name": "stderr",
     "output_type": "stream",
     "text": [
      "C:\\Users\\danie\\Anaconda3\\lib\\site-packages\\sklearn\\linear_model\\logistic.py:432: FutureWarning: Default solver will be changed to 'lbfgs' in 0.22. Specify a solver to silence this warning.\n",
      "  FutureWarning)\n",
      "C:\\Users\\danie\\Anaconda3\\lib\\site-packages\\sklearn\\utils\\validation.py:724: DataConversionWarning: A column-vector y was passed when a 1d array was expected. Please change the shape of y to (n_samples, ), for example using ravel().\n",
      "  y = column_or_1d(y, warn=True)\n"
     ]
    },
    {
     "ename": "ValueError",
     "evalue": "Found input variables with inconsistent numbers of samples: [20799, 19499]",
     "output_type": "error",
     "traceback": [
      "\u001b[1;31m---------------------------------------------------------------------------\u001b[0m",
      "\u001b[1;31mValueError\u001b[0m                                Traceback (most recent call last)",
      "\u001b[1;32m<ipython-input-53-f44724590846>\u001b[0m in \u001b[0;36m<module>\u001b[1;34m\u001b[0m\n\u001b[1;32m----> 1\u001b[1;33m \u001b[0mclassifier\u001b[0m\u001b[1;33m.\u001b[0m\u001b[0mfit\u001b[0m\u001b[1;33m(\u001b[0m\u001b[0mX_train\u001b[0m\u001b[1;33m,\u001b[0m \u001b[0my_train\u001b[0m\u001b[1;33m)\u001b[0m\u001b[1;33m\u001b[0m\u001b[1;33m\u001b[0m\u001b[0m\n\u001b[0m",
      "\u001b[1;32m~\\Anaconda3\\lib\\site-packages\\sklearn\\linear_model\\logistic.py\u001b[0m in \u001b[0;36mfit\u001b[1;34m(self, X, y, sample_weight)\u001b[0m\n\u001b[0;32m   1530\u001b[0m \u001b[1;33m\u001b[0m\u001b[0m\n\u001b[0;32m   1531\u001b[0m         X, y = check_X_y(X, y, accept_sparse='csr', dtype=_dtype, order=\"C\",\n\u001b[1;32m-> 1532\u001b[1;33m                          accept_large_sparse=solver != 'liblinear')\n\u001b[0m\u001b[0;32m   1533\u001b[0m         \u001b[0mcheck_classification_targets\u001b[0m\u001b[1;33m(\u001b[0m\u001b[0my\u001b[0m\u001b[1;33m)\u001b[0m\u001b[1;33m\u001b[0m\u001b[1;33m\u001b[0m\u001b[0m\n\u001b[0;32m   1534\u001b[0m         \u001b[0mself\u001b[0m\u001b[1;33m.\u001b[0m\u001b[0mclasses_\u001b[0m \u001b[1;33m=\u001b[0m \u001b[0mnp\u001b[0m\u001b[1;33m.\u001b[0m\u001b[0munique\u001b[0m\u001b[1;33m(\u001b[0m\u001b[0my\u001b[0m\u001b[1;33m)\u001b[0m\u001b[1;33m\u001b[0m\u001b[1;33m\u001b[0m\u001b[0m\n",
      "\u001b[1;32m~\\Anaconda3\\lib\\site-packages\\sklearn\\utils\\validation.py\u001b[0m in \u001b[0;36mcheck_X_y\u001b[1;34m(X, y, accept_sparse, accept_large_sparse, dtype, order, copy, force_all_finite, ensure_2d, allow_nd, multi_output, ensure_min_samples, ensure_min_features, y_numeric, warn_on_dtype, estimator)\u001b[0m\n\u001b[0;32m    727\u001b[0m         \u001b[0my\u001b[0m \u001b[1;33m=\u001b[0m \u001b[0my\u001b[0m\u001b[1;33m.\u001b[0m\u001b[0mastype\u001b[0m\u001b[1;33m(\u001b[0m\u001b[0mnp\u001b[0m\u001b[1;33m.\u001b[0m\u001b[0mfloat64\u001b[0m\u001b[1;33m)\u001b[0m\u001b[1;33m\u001b[0m\u001b[1;33m\u001b[0m\u001b[0m\n\u001b[0;32m    728\u001b[0m \u001b[1;33m\u001b[0m\u001b[0m\n\u001b[1;32m--> 729\u001b[1;33m     \u001b[0mcheck_consistent_length\u001b[0m\u001b[1;33m(\u001b[0m\u001b[0mX\u001b[0m\u001b[1;33m,\u001b[0m \u001b[0my\u001b[0m\u001b[1;33m)\u001b[0m\u001b[1;33m\u001b[0m\u001b[1;33m\u001b[0m\u001b[0m\n\u001b[0m\u001b[0;32m    730\u001b[0m \u001b[1;33m\u001b[0m\u001b[0m\n\u001b[0;32m    731\u001b[0m     \u001b[1;32mreturn\u001b[0m \u001b[0mX\u001b[0m\u001b[1;33m,\u001b[0m \u001b[0my\u001b[0m\u001b[1;33m\u001b[0m\u001b[1;33m\u001b[0m\u001b[0m\n",
      "\u001b[1;32m~\\Anaconda3\\lib\\site-packages\\sklearn\\utils\\validation.py\u001b[0m in \u001b[0;36mcheck_consistent_length\u001b[1;34m(*arrays)\u001b[0m\n\u001b[0;32m    203\u001b[0m     \u001b[1;32mif\u001b[0m \u001b[0mlen\u001b[0m\u001b[1;33m(\u001b[0m\u001b[0muniques\u001b[0m\u001b[1;33m)\u001b[0m \u001b[1;33m>\u001b[0m \u001b[1;36m1\u001b[0m\u001b[1;33m:\u001b[0m\u001b[1;33m\u001b[0m\u001b[1;33m\u001b[0m\u001b[0m\n\u001b[0;32m    204\u001b[0m         raise ValueError(\"Found input variables with inconsistent numbers of\"\n\u001b[1;32m--> 205\u001b[1;33m                          \" samples: %r\" % [int(l) for l in lengths])\n\u001b[0m\u001b[0;32m    206\u001b[0m \u001b[1;33m\u001b[0m\u001b[0m\n\u001b[0;32m    207\u001b[0m \u001b[1;33m\u001b[0m\u001b[0m\n",
      "\u001b[1;31mValueError\u001b[0m: Found input variables with inconsistent numbers of samples: [20799, 19499]"
     ]
    }
   ],
   "source": [
    "classifier.fit(X_train, y_train)"
   ]
  },
  {
   "cell_type": "code",
   "execution_count": null,
   "metadata": {},
   "outputs": [],
   "source": []
  }
 ],
 "metadata": {
  "kernelspec": {
   "display_name": "Python 3",
   "language": "python",
   "name": "python3"
  },
  "language_info": {
   "codemirror_mode": {
    "name": "ipython",
    "version": 3
   },
   "file_extension": ".py",
   "mimetype": "text/x-python",
   "name": "python",
   "nbconvert_exporter": "python",
   "pygments_lexer": "ipython3",
   "version": "3.7.3"
  }
 },
 "nbformat": 4,
 "nbformat_minor": 2
}
